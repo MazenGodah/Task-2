{
  "nbformat": 4,
  "nbformat_minor": 0,
  "metadata": {
    "colab": {
      "provenance": []
    },
    "kernelspec": {
      "name": "python3",
      "display_name": "Python 3"
    },
    "language_info": {
      "name": "python"
    }
  },
  "cells": [
    {
      "cell_type": "markdown",
      "source": [
        "# Managing a Simple Inventory System"
      ],
      "metadata": {
        "id": "ztOSGe78z4NV"
      }
    },
    {
      "cell_type": "code",
      "execution_count": null,
      "metadata": {
        "id": "jmLTQpK7zvwO"
      },
      "outputs": [],
      "source": []
    },
    {
      "cell_type": "markdown",
      "source": [
        "# Simple Calculator Class"
      ],
      "metadata": {
        "id": "e3oNmsI2z8kj"
      }
    },
    {
      "cell_type": "code",
      "source": [
        "class Calculator:\n",
        "    def add(self, x, y):\n",
        "        return x + y\n",
        "\n",
        "    def subtract(self, x, y):\n",
        "        return x - y\n",
        "\n",
        "    def multiply(self, x, y):\n",
        "        return x * y\n",
        "\n",
        "    def divide(self, x, y):\n",
        "        if y == 0:\n",
        "            return \"Division by zero error!\"\n",
        "        return x / y\n",
        "\n",
        "\n",
        "calculator = Calculator()\n",
        "num1 = float(input(\"Enter first number: \"))\n",
        "num2 = float(input(\"Enter second number: \"))\n",
        "operation = input(\"Enter operation (+, -, *, /): \")\n",
        "if operation == '+':\n",
        "    result = calculator.add(num1, num2)\n",
        "elif operation == '-':\n",
        "    result = calculator.subtract(num1, num2)\n",
        "elif operation == '*':\n",
        "    result = calculator.multiply(num1, num2)\n",
        "elif operation == '/':\n",
        "    result = calculator.divide(num1, num2)\n",
        "else:\n",
        "    result = \"Invalid operation!\"\n",
        "\n",
        "print(\"Result:\", result)"
      ],
      "metadata": {
        "id": "GrGS4ubm0AFD",
        "outputId": "29f3bc0b-18d1-4b13-a8c8-9a3284d7db84",
        "colab": {
          "base_uri": "https://localhost:8080/"
        }
      },
      "execution_count": 15,
      "outputs": [
        {
          "output_type": "stream",
          "name": "stdout",
          "text": [
            "Enter first number: 5\n",
            "Enter second number: 9\n",
            "Enter operation (+, -, *, /): +\n",
            "Result: 14.0\n"
          ]
        }
      ]
    },
    {
      "cell_type": "markdown",
      "source": [
        "# Creating a Student Management System\n"
      ],
      "metadata": {
        "id": "KLlB1ndI0E9z"
      }
    },
    {
      "cell_type": "code",
      "source": [
        "class student :\n",
        "  def __init__(self,name,age,id):\n",
        "    self.name = name\n",
        "    self.age = age\n",
        "    self.id = id\n",
        "  def display_info(self):\n",
        "    print(f\"Name: {self.name}, Age: {self.age}, ID: {self.id}\")\n",
        "\n",
        "student1= student (\"Alice\", 30, 254)\n",
        "print(student1.name)\n",
        "print(student1.age)\n",
        "print(student1.id)\n",
        "student1.display_info()\n",
        ""
      ],
      "metadata": {
        "id": "hekV--0yOI8V",
        "outputId": "82ec650d-2bd7-46a6-fefa-ccb170c85b6c",
        "colab": {
          "base_uri": "https://localhost:8080/"
        }
      },
      "execution_count": 17,
      "outputs": [
        {
          "output_type": "stream",
          "name": "stdout",
          "text": [
            "Alice\n",
            "30\n",
            "254\n",
            "Name: Alice, Age: 30, ID: 254\n"
          ]
        }
      ]
    },
    {
      "cell_type": "markdown",
      "source": [
        "# Modeling a Bank Account\n"
      ],
      "metadata": {
        "id": "Gp48XfCR0I_c"
      }
    },
    {
      "cell_type": "code",
      "source": [
        "class BankAccount:\n",
        "    def __init__(self, account_number, balance=0):\n",
        "        self.account_number = account_number\n",
        "        self.balance = balance\n",
        "    def display_balance(self):\n",
        "        print(f\"Account Number: {self.account_number}\")\n",
        "        print(f\"Balance: {self.balance}\")\n",
        "\n",
        "BankAccount1= BankAccount(\"12345\",19000)\n",
        "BankAccount1.display_balance()\n"
      ],
      "metadata": {
        "id": "vw1q3ooy0LO8",
        "outputId": "7f0e4b87-39be-4c8e-cf07-ba3206b34d05",
        "colab": {
          "base_uri": "https://localhost:8080/"
        }
      },
      "execution_count": 25,
      "outputs": [
        {
          "output_type": "stream",
          "name": "stdout",
          "text": [
            "Account Number: 12345\n",
            "Balance: 19000\n"
          ]
        }
      ]
    },
    {
      "cell_type": "markdown",
      "source": [
        "# Modeling a Simple Library System\n"
      ],
      "metadata": {
        "id": "-4--ZqEe0OQ8"
      }
    },
    {
      "cell_type": "code",
      "source": [
        "class Library:\n",
        "    def __init__(self,addbook,removebook):\n",
        "        self.addbook = addbook\n",
        "        self.removebook = removebook\n",
        "        self.displaybook = displaybook\n",
        "    def addbook(self,book):\n",
        "        self.addbook.append(book)\n",
        "    def removebook(self,book):\n",
        "        self.removebook.remove(book)\n",
        "Library1= Library.addbook(\"book1\")\n",
        "Library1= Library.removebook(\"book2\")\n"
      ],
      "metadata": {
        "id": "v36U_UHD0POE"
      },
      "execution_count": null,
      "outputs": []
    },
    {
      "cell_type": "markdown",
      "source": [
        "# Simple Voting System"
      ],
      "metadata": {
        "id": "eehFyGAs0RY8"
      }
    },
    {
      "cell_type": "code",
      "source": [],
      "metadata": {
        "id": "SWD1UiMl0Syj"
      },
      "execution_count": null,
      "outputs": []
    },
    {
      "cell_type": "markdown",
      "source": [
        "# Simple Temperature Converter"
      ],
      "metadata": {
        "id": "Vnb0BYfc0VBM"
      }
    },
    {
      "cell_type": "code",
      "source": [],
      "metadata": {
        "id": "KjB3N91N0V1r"
      },
      "execution_count": null,
      "outputs": []
    },
    {
      "cell_type": "markdown",
      "source": [
        "# Modeling a Car Rental System\n"
      ],
      "metadata": {
        "id": "MRua6w7D0X4E"
      }
    },
    {
      "cell_type": "code",
      "source": [],
      "metadata": {
        "id": "WsStIvIy0Ztz"
      },
      "execution_count": null,
      "outputs": []
    }
  ]
}